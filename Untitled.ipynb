{
 "cells": [
  {
   "cell_type": "code",
   "execution_count": 24,
   "id": "1e7a7cec",
   "metadata": {},
   "outputs": [
    {
     "name": "stdout",
     "output_type": "stream",
     "text": [
      "8\n",
      "[1, 2, 3, 0, 1, 2, 3, 4, 5, 6, 7]\n",
      "[1, 2, 3]\n"
     ]
    }
   ],
   "source": [
    "def f(alist):\n",
    "    x = int(input())\n",
    "    changed_list=list(alist)\n",
    "    for i in range(x):\n",
    "        changed_list.append(i)\n",
    "    return changed_list\n",
    "\n",
    "alist = [1, 2, 3]\n",
    "ans = f(alist)\n",
    "print(ans)\n",
    "print(alist) # alist has been changed"
   ]
  },
  {
   "cell_type": "code",
   "execution_count": 38,
   "id": "86e54319",
   "metadata": {},
   "outputs": [
    {
     "name": "stdout",
     "output_type": "stream",
     "text": [
      "[1, 9, 25, 49, 81]\n"
     ]
    }
   ],
   "source": [
    "\n",
    "ans = [pow(x,2) for x in range(1,10,2)]\n",
    "print (ans)"
   ]
  },
  {
   "cell_type": "code",
   "execution_count": 4,
   "id": "9e500300",
   "metadata": {},
   "outputs": [
    {
     "name": "stdout",
     "output_type": "stream",
     "text": [
      "9\n",
      "['a', 'aa', 'aaa', 'b', 'bb', 'bbb', 'bbbb', 'bbbbb', 'cc', 'cccccccc', 'ccc', 'ccccccccc', 'cc', 'dddd']\n"
     ]
    }
   ],
   "source": [
    "l_of_words=[\"a\",\"aa\",\"aaa\",\"b\",\"bb\",\"bbb\",\"bbbb\",\"bbbbb\",\"cc\",\"cccccccc\",\"ccc\",\"ccccccccc\",\"cc\",\"dddd\"]\n",
    "i =int(input())\n",
    "def func(x):\n",
    "    return len(list(x))<=i\n",
    "\n",
    "print(list(filter(func, l_of_words)))\n",
    "   \n"
   ]
  },
  {
   "cell_type": "code",
   "execution_count": 3,
   "id": "9917d9f6",
   "metadata": {},
   "outputs": [
    {
     "name": "stdout",
     "output_type": "stream",
     "text": [
      "[2, 4]\n"
     ]
    }
   ],
   "source": [
    "a =[9,2,3,4]\n",
    "def is_even(x):\n",
    "    return x%2 ==0\n",
    "print(list(filter(is_even,a)))"
   ]
  },
  {
   "cell_type": "code",
   "execution_count": null,
   "id": "37b8679b",
   "metadata": {},
   "outputs": [],
   "source": []
  }
 ],
 "metadata": {
  "kernelspec": {
   "display_name": "Python 3 (ipykernel)",
   "language": "python",
   "name": "python3"
  },
  "language_info": {
   "codemirror_mode": {
    "name": "ipython",
    "version": 3
   },
   "file_extension": ".py",
   "mimetype": "text/x-python",
   "name": "python",
   "nbconvert_exporter": "python",
   "pygments_lexer": "ipython3",
   "version": "3.9.12"
  }
 },
 "nbformat": 4,
 "nbformat_minor": 5
}
