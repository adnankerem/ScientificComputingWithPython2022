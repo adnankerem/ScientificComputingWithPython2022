{
 "cells": [
  {
   "cell_type": "markdown",
   "metadata": {},
   "source": [
    "1\\. **Hurricanes per Year**\n",
    "\n",
    "The number of hurricanes in 2005 was 15. The historic average is 6.3. Is this number signficantly different?\n",
    "- Assume the number of hurricanes is random, i.e. follows the Poisson distribution.\n",
    "- Assume as statistically significant a probability that has a Z score of 3 or larger with respect a normal distribution.\n",
    "\n",
    "**Hint**: compute the probability that in a single year are observed 15 or more hurricances."
   ]
  },
  {
   "cell_type": "code",
   "execution_count": 63,
   "metadata": {},
   "outputs": [
    {
     "name": "stdout",
     "output_type": "stream",
     "text": [
      "\n",
      "\n",
      " mu: 6.2005 \n",
      "\n",
      "\n",
      "\n",
      "\n",
      " sigma: 2.4900803199896986 \n",
      "\n",
      "\n",
      "\n",
      "\n",
      " z0: 3.5338217523988957 \n",
      "\n",
      "\n",
      "\n",
      "\n",
      " Probability_z2: 0.00040959720932453886 \n",
      "\n",
      "\n"
     ]
    }
   ],
   "source": [
    "from scipy.stats import poisson\n",
    "import numpy as np\n",
    "import random\n",
    "import matplotlib as plt\n",
    "import matplotlib.pyplot as plt\n",
    "from scipy import stats\n",
    "import pandas as pd\n",
    "import pickle\n",
    "from scipy import optimize\n",
    "\n",
    "x0 = 15 #number of hurricanes at 2005\n",
    "\n",
    "#poisson distribution with average 6.3 hurrinaces per year\n",
    "x_poisson=poisson.rvs(6.3,size= 2000,random_state=0)\n",
    "#last 2000 years, happened hurricanes in each year\n",
    "mu=x_poisson.mean()\n",
    "# mu_d=np.var(x_poisson)\n",
    "print(\"\\n\\n mu:\",mu,\"\\n\\n\")\n",
    "# print(\"\\n\\n\",mu_d,\"\\n\\n\")\n",
    "\n",
    "\n",
    "sigma = np.sqrt(mu)\n",
    "print(\"\\n\\n sigma:\",sigma,\"\\n\\n\")\n",
    "#standard diviation\n",
    "# plt.imshow(x_poisson)\n",
    "\n",
    "z=abs(x0-mu)/sigma\n",
    "\n",
    "\n",
    "print(\"\\n\\n z0:\",z,\"\\n\\n\")\n",
    "\n",
    "probability_z=stats.norm.cdf(-z) + (1-stats.norm.cdf(z))\n",
    "\n",
    "\n",
    "print(\"\\n\\n Probability_z2:\",probability_z,\"\\n\\n\")\n"
   ]
  },
  {
   "cell_type": "markdown",
   "metadata": {},
   "source": [
    "2\\. **Pairwise t-test**\n",
    "\n",
    "In an experiment, a group of 10 individuals agreed to participate in a study of blood pressure changes following exposure to halogen lighting. Resting systolic blood pressure was recorded for each individual. The participants were then exposed to 20 minutes in a room lit only by halogen lamps. A post-exposure systolic blood pressure reading was recorded for each individual. The results are presented in the following data set:\n",
    "\n",
    "```python\n",
    "pre = np.array([120, 132, 120, 110, 115, 128, 120, 112, 110, 100])\n",
    "post = np.array([140, 156, 145, 130, 117, 148, 137, 119, 127, 135])\n",
    "```\n",
    "\n",
    "Determine whether the change in blood pressures within our sample was statistically significant.\n",
    "\n",
    "**Hint:**\n",
    "in this case, the Student's $t$-test should be performed to compare the two datasets.\n",
    "Use the following test statistics:\n",
    "\n",
    "$$T = \\frac{\\bar{x}_1 - \\bar{x}_2}{\\sigma \\sqrt{\\frac{2}{n}}}$$\n",
    "\n",
    "and \n",
    "\n",
    "$$\\sigma = \\sqrt{\\frac{\\sigma_1^2 + \\sigma_2^2}{2}}$$"
   ]
  },
  {
   "cell_type": "code",
   "execution_count": 38,
   "metadata": {},
   "outputs": [
    {
     "name": "stdout",
     "output_type": "stream",
     "text": [
      "\n",
      "\n",
      " T value: -3.786997938137629 \n",
      "\n",
      "\n",
      "\n",
      " P value: 0.004302464132864604 \n",
      "\n"
     ]
    },
    {
     "data": {
      "text/plain": [
       "Text(0.5, 0, 't value')"
      ]
     },
     "execution_count": 38,
     "metadata": {},
     "output_type": "execute_result"
    },
    {
     "data": {
      "image/png": "[encoded data removed]",
      "text/plain": [
       "<Figure size 432x288 with 1 Axes>"
      ]
     },
     "metadata": {
      "needs_background": "light"
     },
     "output_type": "display_data"
    }
   ],
   "source": [
    "pre = np.array([120, 132, 120, 110, 115, 128, 120, 112, 110, 100])\n",
    "post = np.array([140, 156, 145, 130, 117, 148, 137, 119, 127, 135])\n",
    "\n",
    "pre_n = np.sqrt(np.var(pre,ddof=1))\n",
    "post_n = np.sqrt(np.var(post,ddof=1))\n",
    "\n",
    "sigma = np.sqrt(((pre_n**2)+(post_n**2))/2)\n",
    "\n",
    "pre_mean=np.mean(pre)\n",
    "post_mean=np.mean(post)\n",
    "\n",
    "number=len(post) #n\n",
    "T=((pre_mean-post_mean)/(sigma*(np.sqrt(2/number))))\n",
    "print(\"\\n\\n T value:\",T,\"\\n\")\n",
    "P = stats.t.cdf(T,number-1)+(1-stats.t.cdf(-T,number-1))\n",
    "print(\"\\n\\n P value:\",P,\"\\n\")\n",
    "\n",
    "f_x=np.linspace(-10,10,1000)\n",
    "t_value = stats.t.pdf(f_x,number-1)\n",
    "\n",
    "\n",
    "plt.plot(f_x,t_value)\n",
    "plt.fill_between(f_x,t_value,where=(np.abs(f_x) > 0),color='g',alpha=1)\n",
    "plt.axvline(T, linestyle = '--', color='r')\n",
    "plt.axvline(-T,linestyle = '--', color='r')\n",
    "plt.ylabel(\"distribution\")\n",
    "plt.xlabel(\"t value\")\n",
    "\n",
    "# plt.fill_between(f_x, t_value, where=(np.abs(f_x) > np.abs(0)), color='blue', alpha=0.25)\n",
    "# plt"
   ]
  },
  {
   "cell_type": "markdown",
   "metadata": {},
   "source": [
    "3\\. **Curve fitting of temperature in Alaska** \n",
    "\n",
    "The temperature extremes in Alaska for each month, starting in January, are given by (in degrees Celcius):\n",
    "\n",
    "max:  `17,  19,  21,  28,  33,  38, 37,  37,  31,  23,  19,  18`\n",
    "\n",
    "min: `-62, -59, -56, -46, -32, -18, -9, -13, -25, -46, -52, -58`\n",
    "\n",
    "* Plot these temperatures.\n",
    "* Find a suitable a function that can describe min and max temperatures. \n",
    "* Fit this function to the data with `scipy.optimize.curve_fit()`.\n",
    "* Plot the result. Is the fit reasonable? If not, why?\n",
    "* Is the time offset for min and max temperatures the same within the fit accuracy?"
   ]
  },
  {
   "cell_type": "code",
   "execution_count": 64,
   "metadata": {},
   "outputs": [
    {
     "data": {
      "image/png": "[encoded data removed]",
      "text/plain": [
       "<Figure size 432x288 with 1 Axes>"
      ]
     },
     "metadata": {
      "needs_background": "light"
     },
     "output_type": "display_data"
    }
   ],
   "source": [
    "max_temp=np.array([17,  19,  21,  28,  33,  38, 37,  37,  31,  23,  19,  18])\n",
    "min_temp=np.array([-62, -59, -56, -46, -32, -18, -9, -13, -25, -46, -52, -58])\n",
    "\n",
    "months = np.array([1,2,3,4,5,6,7,8,9,10,11,12])\n",
    "\n",
    "x=np.linspace(1,12,120)\n",
    "\n",
    "def curve_func(x,month,value,A,off):\n",
    "    return A * stats.norm.pdf(x,loc=month,scale=value)+off\n",
    "\n",
    "max_opt, max_cov = optimize.curve_fit(curve_func, months, max_temp, p0=[6, 1, 1, 0])\n",
    "plt.plot(x, curve_func(x, max_opt[0], max_opt[1], max_opt[2], max_opt[3]), color='r', label='fitted temps_max')\n",
    "\n",
    "plt.scatter(months, max_temp, label='max_temp', color=\"b\")\n",
    "min_opt, min_cov = optimize.curve_fit(curve_func, months, min_temp, p0=[6, 1, 1, 0])\n",
    "plt.plot(x, curve_func(x, min_opt[0], min_opt[1], min_opt[2], min_opt[3]), color='g', label='fitted temps_min')\n",
    "plt.scatter(months, min_temp, label='min_temp', color=\"y\")\n",
    "plt.ylabel('Temperature')\n",
    "plt.xlabel('Month')\n",
    "plt.legend()\n",
    "plt.show()\n",
    "\n",
    "#the fit is reasonable\n"
   ]
  },
  {
   "cell_type": "markdown",
   "metadata": {},
   "source": [
    "4\\. **Fit the residues**\n",
    "\n",
    "Read the `data/residuals_261.pkl` file. If you haven't got it already, download it from here:\n",
    "\n",
    "```bash\n",
    "wget https://www.dropbox.com/s/3uqleyc3wyz52tr/residuals_261.pkl -P data/\n",
    "```\n",
    "\n",
    "The feature named `residual` contains the residuals (defined as $y_i - \\hat{y}_i$) of a linear regression as a function of the independent variable `distances`.\n",
    "\n",
    "- Considering only the \"residual\" feature, create an histogram with the appropriate binning and plot it.\n",
    "- Set the appropriate Poisson uncertainty for each bin (thus, for each bin, $\\sigma_i = \\sqrt{n_i}$, where $n_i$ is the number of entries in each bin)\n",
    "- By looking at the distribution of the residuals, define an appropriate function and fit it to the histogram of the residuals\n",
    "- Perform a goodness-of-fit test. Is the p-value of the fit satisfactory?"
   ]
  },
  {
   "cell_type": "code",
   "execution_count": 45,
   "metadata": {},
   "outputs": [
    {
     "name": "stdout",
     "output_type": "stream",
     "text": [
      "[ 1.1        -1.95       -7.2        ...  0.08333333  0.16666667\n",
      "  0.08333333]\n",
      "\n",
      "\n",
      " len residuals: 11131\n"
     ]
    },
    {
     "data": {
      "image/png": "[encoded data removed]",
      "text/plain": [
       "<Figure size 432x288 with 1 Axes>"
      ]
     },
     "metadata": {
      "needs_background": "light"
     },
     "output_type": "display_data"
    }
   ],
   "source": [
    "# !wget https://www.dropbox.com/s/3uqleyc3wyz52tr/residuals_261.pkl -P data/\n",
    "\n",
    "filename = open('data/residuals_261.pkl','rb')\n",
    "residual = (pickle.load(filename).item())['residuals']\n",
    "filename.close()\n",
    "print(residual)\n",
    "print(\"\\n\\n len residuals:\",len(residual))\n",
    "number_of_bins=50\n",
    "\n",
    "number,bins,_ = plt.hist(residual,bins=number_of_bins,range=(-8,8),color=\"g\")\n",
    "center_bins = [(bins[i]+bins[i+1])/2 for i in range(len(bins)-1)]\n",
    "\n",
    "def fit(x,S,m,value):\n",
    "    return S* np.exp((-1*((x-m)**2))/(2*value))\n",
    "\n",
    "p_opt,p_cov = optimize.curve_fit(fit,center_bins,number,p0=[1,0,1],full_output=False)\n",
    "\n",
    "x = np.linspace(-8,8,1000)\n",
    "plt.plot(x,fit(x,p_opt[0],p_opt[1],p_opt[2]),color=\"r\")\n",
    "plt.show()\n",
    "\n"
   ]
  },
  {
   "cell_type": "markdown",
   "metadata": {},
   "source": [
    "5\\. **Temperatures in Munich**\n",
    "\n",
    "Get the following data file:\n",
    "\n",
    "```bash\n",
    "https://www.dropbox.com/s/7gy9yjl00ymxb8h/munich_temperatures_average_with_bad_data.txt\n",
    "```\n",
    "\n",
    "which gives the temperature in Munich every day for several years.\n",
    "\n",
    "\n",
    "Fit the following function to the data:\n",
    "\n",
    "$$f(t) = a \\cos(2\\pi t + b)+c$$\n",
    "\n",
    "where $t$ is the time in years.\n",
    "\n",
    "- Make a plot of the data and the best-fit model in the range 2008 to 2012.\n",
    "\n",
    "   - What are the best-fit values of the parameters?\n",
    "\n",
    "   - What is the overall average temperature in Munich, and what are the typical daily average values predicted by the model for the coldest and hottest time of year?\n",
    "\n",
    "   - What is the meaning of the $b$ parameter, and what physical sense does it have?\n",
    "\n",
    "\n",
    "- Now fit the data with the function $g(x)$, which has 1 more parameter than $f(x)$.\n",
    "$$g(x) = a \\cos(2\\pi b t + c)+d$$\n",
    "   - What are the RSS for $f(x)$ and $g(x)$?\n",
    "   - Use the Fisher F-test to determine whether the additional parameter is motivated."
   ]
  },
  {
   "cell_type": "code",
   "execution_count": 78,
   "metadata": {},
   "outputs": [
    {
     "data": {
      "image/png": "[encoded data removed]",
      "text/plain": [
       "<Figure size 432x288 with 1 Axes>"
      ]
     },
     "metadata": {
      "needs_background": "light"
     },
     "output_type": "display_data"
    },
    {
     "data": {
      "image/png": "[encoded data removed]",
      "text/plain": [
       "<Figure size 432x288 with 1 Axes>"
      ]
     },
     "metadata": {
      "needs_background": "light"
     },
     "output_type": "display_data"
    },
    {
     "name": "stdout",
     "output_type": "stream",
     "text": [
      "\n",
      " a= -9.982183881231062 \n",
      " b= 1.0014440576722103 \n",
      " c= -5.9047271750555055 \n",
      " d= 9.398124918050614\n",
      "\n",
      " RSS_f(x): 34359.85859996652 \n",
      "\n",
      "\n",
      " RSS_g(x): 34352.794053704085 \n",
      "\n"
     ]
    },
    {
     "data": {
      "text/plain": [
       "0.98174374519885"
      ]
     },
     "execution_count": 78,
     "metadata": {},
     "output_type": "execute_result"
    }
   ],
   "source": [
    "# !wget https://www.dropbox.com/s/7gy9yjl00ymxb8h/munich_temperatures_average_with_bad_data.txt -P data/\n",
    "\n",
    "filename = pd.read_csv('data/munich_temperatures_average_with_bad_data.txt', sep=' ', names = ['years', 'temp'] )\n",
    "df = filename[(filename['years']<=2012) & (filename['years']>=2008)]\n",
    "filename\n",
    "df\n",
    "\n",
    "time = df['years']\n",
    "temp = df['temp']\n",
    "\n",
    "def fx(time,a,b,c):\n",
    "    return a*np.cos(2*np.pi*time+b)+c\n",
    "def gx(time,a,b,c,d):\n",
    "    return a*np.cos(2*np.pi*b*time+c)+d\n",
    "f_opt,f_cov = optimize.curve_fit(fx,time,temp,p0=[1,1,1])\n",
    "\n",
    "plt.title('f(x)')\n",
    "plt.scatter(time,temp,label='df',color='r')\n",
    "plt.plot(time,fx(time,f_opt[0],f_opt[1],f_opt[2]),label='f(x) fit',color='g')\n",
    "plt.legend()\n",
    "plt.show()\n",
    "\n",
    "g_opt,g_cov=optimize.curve_fit(gx,time,temp,p0=[1,1,1,1])\n",
    "plt.title('g(x)')\n",
    "plt.scatter(time,temp,label='df',color='b')\n",
    "plt.plot(time,fx(time,f_opt[0],f_opt[1],f_opt[2]),label='f(x) fit',color='g',ls='-.')\n",
    "\n",
    "plt.plot(time, gx(time, g_opt[0], g_opt[1], g_opt[2], g_opt[3]), label = 'g(x) fit', color = 'r', ls='--')\n",
    "plt.legend()\n",
    "plt.show()\n",
    "\n",
    "print('\\n a=',g_opt[0],'\\n b=',g_opt[1],'\\n c=',g_opt[2],'\\n d=',g_opt[3])\n",
    "\n",
    "res_f = temp - fx(time,*f_opt)\n",
    "ssr_fx=np.sum(res_f**2)\n",
    "\n",
    "res_g=temp-gx(time,*g_opt)\n",
    "ssr_gx=np.sum(res_g**2)\n",
    "\n",
    "print(\"\\n RSS_f(x):\",ssr_fx,\"\\n\")\n",
    "print(\"\\n RSS_g(x):\",ssr_gx,\"\\n\")\n",
    "\n",
    "number_of_params_f = 3\n",
    "number_of_params_g = 4\n",
    "\n",
    "alpha = 0.05\n",
    "\n",
    "\n",
    "\n",
    "\n",
    "def ftest(ssr_1,ssr_2,ndof_1,ndof_2,nbins,verbose=False):\n",
    "    F = ((ssr_1 - ssr_2)/(ndof_2 - ndof_1)) / (ssr_2/(nbins - ndof_2))\n",
    "    pval = 1. - stats.f.cdf(F, ndof_2 - ndof_1, nbins - ndof_2)\n",
    "    return pval\n",
    "number_count=number_of_params_f+number_of_params_g\n",
    "ftest(ssr_fx,ssr_gx,number_of_params_f,number_of_params_g,number_count,verbose=True)"
   ]
  },
  {
   "cell_type": "code",
   "execution_count": null,
   "metadata": {},
   "outputs": [],
   "source": []
  },
  {
   "cell_type": "code",
   "execution_count": null,
   "metadata": {},
   "outputs": [],
   "source": []
  }
 ],
 "metadata": {
  "kernelspec": {
   "display_name": "Python 3 (ipykernel)",
   "language": "python",
   "name": "python3"
  },
  "language_info": {
   "codemirror_mode": {
    "name": "ipython",
    "version": 3
   },
   "file_extension": ".py",
   "mimetype": "text/x-python",
   "name": "python",
   "nbconvert_exporter": "python",
   "pygments_lexer": "ipython3",
   "version": "3.9.12"
  }
 },
 "nbformat": 4,
 "nbformat_minor": 2
}
