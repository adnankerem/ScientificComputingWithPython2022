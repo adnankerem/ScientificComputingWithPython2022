{
 "cells": [
  {
   "cell_type": "code",
   "execution_count": 8,
   "id": "d454e4af",
   "metadata": {},
   "outputs": [
    {
     "name": "stdout",
     "output_type": "stream",
     "text": [
      "[1, 2, 3, 0, 1, 2, 3, 4, 5, 6, 7]\n",
      "[1, 2, 3]\n"
     ]
    }
   ],
   "source": [
    "def f(alist,x):\n",
    "    changed_list=list(alist)\n",
    "    for i in range(x):\n",
    "        changed_list.append(i)\n",
    "    return changed_list\n",
    "\n",
    "alist = [1, 2, 3]\n",
    "ans = f(alist,8)\n",
    "print(ans)\n",
    "print(alist) # alist has been changed"
   ]
  },
  {
   "cell_type": "code",
   "execution_count": 9,
   "id": "4410d279",
   "metadata": {},
   "outputs": [
    {
     "name": "stdout",
     "output_type": "stream",
     "text": [
      "[1, 9, 25, 49, 81]\n"
     ]
    }
   ],
   "source": [
    "print ([pow(x,2) for x in range(1,10,2)])"
   ]
  },
  {
   "cell_type": "code",
   "execution_count": 11,
   "id": "f058ec41",
   "metadata": {},
   "outputs": [
    {
     "name": "stdout",
     "output_type": "stream",
     "text": [
      "4\n",
      "['a', 'aa', 'aaa', 'b', 'bb', 'bbb', 'bbbb', 'cc', 'ccc', 'cc', 'dddd']\n"
     ]
    }
   ],
   "source": [
    "l_of_words=[\"a\",\"aa\",\"aaa\",\"b\",\"bb\",\"bbb\",\"bbbb\",\"bbbbb\",\"cc\",\"cccccccc\",\"ccc\",\"ccccccccc\",\"cc\",\"dddd\"]\n",
    "i =int(input())\n",
    "def func(x):\n",
    "    return len(list(x))<=i\n",
    "print(list(filter(func, l_of_words)))\n",
    "   \n"
   ]
  },
  {
   "cell_type": "code",
   "execution_count": 1,
   "id": "8fa3d01b",
   "metadata": {},
   "outputs": [
    {
     "name": "stdout",
     "output_type": "stream",
     "text": [
      "[6, 4, 9, 3]\n"
     ]
    }
   ],
   "source": [
    "lang = {\"Python\" : 3, \"Java\" : '', \"Cplusplus\" : 'test', \"Php\" : 0.7}\n",
    "def function(x):\n",
    "    key_list = list(x.keys())\n",
    "    len_key_list=[]\n",
    "    for i in map(lambda y: len(y), key_list):\n",
    "        len_key_list.append(i)\n",
    "    return len_key_list\n",
    "print(function(lang))"
   ]
  },
  {
   "cell_type": "code",
   "execution_count": 3,
   "id": "37107526",
   "metadata": {},
   "outputs": [
    {
     "name": "stdout",
     "output_type": "stream",
     "text": [
      "[6, 4, 9, 3]\n"
     ]
    }
   ],
   "source": [
    "lang = {\"Python\" : 3, \"Java\" : '', \"Cplusplus\" : 'test', \"Php\" : 0.7}\n",
    "def fu(x):\n",
    "    return [i for i in map(lambda y: len(y), list(x.keys()))]\n",
    "print(fu(lang))"
   ]
  },
  {
   "cell_type": "code",
   "execution_count": null,
   "id": "f52d7c95",
   "metadata": {},
   "outputs": [],
   "source": [
    "lang = {\"Python\" : 3, \"Java\" : '', \"Cplusplus\" : 'test', \"Php\" : 0.7}\n",
    "\n",
    "def len_of_keys(x):\n",
    "    list1=list(x.keys())\n",
    "    for i in list1:\n",
    "        \n",
    "        "
   ]
  },
  {
   "cell_type": "code",
   "execution_count": 8,
   "id": "e14085a4",
   "metadata": {},
   "outputs": [
    {
     "name": "stdout",
     "output_type": "stream",
     "text": [
      "[('Cplusplus', 81), ('Java', 32), ('Php', 45), ('Python', 97)]\n"
     ]
    }
   ],
   "source": [
    "language_scores = [('Python', 97), ('Cplusplus', 81), ('Php', 45), ('Java', 32)]\n",
    "\n",
    "language_scores.sort(key=lambda x:x[0])\n",
    "print(language_scores)\n",
    "\n",
    "\n",
    "\n"
   ]
  },
  {
   "cell_type": "code",
   "execution_count": 38,
   "id": "52b98376",
   "metadata": {},
   "outputs": [
    {
     "name": "stdout",
     "output_type": "stream",
     "text": [
      "[('apple', '10', '200'), ('baby', '20', '300'), ('candy', '19', '100')]\n"
     ]
    }
   ],
   "source": [
    "lst = [('candy','19','100'), ('apple','10','200'), ('baby','20','300')]\n",
    "lst.sort(key=lambda x:x[0])\n",
    "print(lst)"
   ]
  },
  {
   "cell_type": "code",
   "execution_count": 40,
   "id": "021c849a",
   "metadata": {},
   "outputs": [
    {
     "name": "stdout",
     "output_type": "stream",
     "text": [
      "2\n",
      "64\n"
     ]
    }
   ],
   "source": [
    "\n",
    "def square(x):\n",
    "    return pow(x,2)\n",
    "def cube(x):\n",
    "    return pow(x,3)\n",
    "def combined(x):\n",
    "    return square(cube(x))\n",
    "print(combined(int(input())))"
   ]
  },
  {
   "cell_type": "code",
   "execution_count": 43,
   "id": "09a40e29",
   "metadata": {},
   "outputs": [
    {
     "name": "stdout",
     "output_type": "stream",
     "text": [
      "Hello World!\n",
      "hey!\n"
     ]
    }
   ],
   "source": [
    "x=3\n",
    "def hello(func):\n",
    "    def hello2():\n",
    "        print(\"Hello World!\")\n",
    "        func()\n",
    "    return hello2\n",
    "@hello\n",
    "def hey():\n",
    "    print(\"hey!\")\n",
    "\n",
    "hey()"
   ]
  },
  {
   "cell_type": "code",
   "execution_count": 123,
   "id": "fab7eb98",
   "metadata": {},
   "outputs": [
    {
     "name": "stdout",
     "output_type": "stream",
     "text": [
      "[1, 1, 2, 3, 5, 8, 13, 21, 34, 55, 89, 144, 233, 377, 610, 987, 1597, 2584, 4181, 6765]\n"
     ]
    }
   ],
   "source": [
    "x = 20\n",
    "fibo = []\n",
    "f1,f2,fs = 0,1,0\n",
    "def fibo1():\n",
    "    global f1,f2,fs,fibo\n",
    "    f_list.append(f1)\n",
    "    fs = f1 + f2\n",
    "    f1 = f2\n",
    "    f2 = fs\n",
    "    return f1\n",
    "def fibo2(x):\n",
    "    global fibo\n",
    "    if x <1:\n",
    "        return x\n",
    "    else:\n",
    "        fibo.append(fibo1())\n",
    "        return fibo2(x-1)\n",
    "    \n",
    "fibo2(x)\n",
    "print(fibo)\n",
    "    "
   ]
  },
  {
   "cell_type": "code",
   "execution_count": 1,
   "id": "5072ee44",
   "metadata": {},
   "outputs": [
    {
     "name": "stdout",
     "output_type": "stream",
     "text": [
      "[0, 1, 1, 2, 3, 5, 8, 13, 21, 34, 55, 89, 144, 233, 377, 610, 987, 1597, 2584, 4181]\n"
     ]
    }
   ],
   "source": [
    "f1,f2,fs = 0,1,0\n",
    "f_list = []\n",
    "def fibonacci(x):\n",
    "    global f1,f2,fs,f_list\n",
    "    if x>0:\n",
    "        f_list.append(f1)\n",
    "        fs = f1 + f2\n",
    "        f1 = f2\n",
    "        f2 = fs\n",
    "        return fibonacci(x-1)\n",
    "x = 20\n",
    "fibonacci(x)\n",
    "print(f_list)\n"
   ]
  },
  {
   "cell_type": "code",
   "execution_count": 10,
   "id": "f763be54",
   "metadata": {},
   "outputs": [
    {
     "name": "stdout",
     "output_type": "stream",
     "text": [
      "0\n",
      "0\n",
      "1\n",
      "3\n",
      "6\n",
      "10\n",
      "15\n",
      "21\n",
      "28\n",
      "36\n",
      "45\n",
      "55\n",
      "66\n",
      "78\n",
      "91\n",
      "105\n",
      "120\n",
      "136\n",
      "153\n",
      "171\n",
      "None\n",
      "2.6599999728205148e-05\n"
     ]
    }
   ],
   "source": [
    "from functools import reduce\n",
    "def fibosum(x = []):\n",
    "    \n",
    "    counter = 0\n",
    "    for i in x:\n",
    "        counter = counter + i\n",
    "    return counter\n",
    "def fibonacci2(x):\n",
    "    f_list=[i for i in range(20-x)]\n",
    "#    fibo =[a for i in f_list[range(20-x)]]\n",
    "    \n",
    "    if x <1:\n",
    "        return f_list\n",
    "    else:\n",
    "#        reduce(fibosum,f_list)\n",
    "        print(fibosum(f_list))\n",
    "        fibonacci2(x-1)\n",
    "print(fibonacci2(20))\n",
    "\n",
    "print(timeit.timeit(stmt='fibonacci(20)', setup=\"from __main__ import fibonacci\", number=1))\n"
   ]
  },
  {
   "cell_type": "code",
   "execution_count": 13,
   "id": "324d50b9",
   "metadata": {
    "scrolled": true
   },
   "outputs": [
    {
     "name": "stdout",
     "output_type": "stream",
     "text": [
      "[0, 1, 1, 2, 3, 5, 8, 13, 21, 34, 55, 89, 144, 233, 377, 610, 987, 1597, 2584, 4181]\n",
      "8.770000022195745e-05\n"
     ]
    }
   ],
   "source": [
    "import timeit\n",
    "f1,f2,fs = 0,1,0\n",
    "f_list = []\n",
    "def fibonacci(x):\n",
    "    global f1,f2,fs,f_list\n",
    "    if x>0:\n",
    "        f_list.append(f1)\n",
    "        fs = f1 + f2\n",
    "        f1 = f2\n",
    "        f2 = fs\n",
    "        return fibonacci(x-1)\n",
    "x = 20\n",
    "fibonacci(x)\n",
    "print(f_list)\n",
    "\n",
    "print(timeit.timeit(stmt='[fibonacci(i) for i in range(20)]', setup=\"from __main__ import fibonacci\", number=1))\n",
    "#print(timeit.timeit('fiboncacci(20)',globals=globals()))\n",
    "\n"
   ]
  },
  {
   "cell_type": "code",
   "execution_count": 9,
   "id": "aebc6e8e",
   "metadata": {},
   "outputs": [
    {
     "ename": "NameError",
     "evalue": "name 'list_fibo' is not defined",
     "output_type": "error",
     "traceback": [
      "\u001b[1;31m---------------------------------------------------------------------------\u001b[0m",
      "\u001b[1;31mNameError\u001b[0m                                 Traceback (most recent call last)",
      "Input \u001b[1;32mIn [9]\u001b[0m, in \u001b[0;36m<cell line: 13>\u001b[1;34m()\u001b[0m\n\u001b[0;32m     10\u001b[0m         \u001b[38;5;28;01mreturn\u001b[39;00m(list_fibo(a, fibonacci(x\u001b[38;5;241m-\u001b[39m\u001b[38;5;241m1\u001b[39m)))\n\u001b[0;32m     12\u001b[0m x \u001b[38;5;241m=\u001b[39m \u001b[38;5;241m20\u001b[39m\n\u001b[1;32m---> 13\u001b[0m \u001b[38;5;28mprint\u001b[39m(\u001b[43mfibonacci\u001b[49m\u001b[43m(\u001b[49m\u001b[43mx\u001b[49m\u001b[43m)\u001b[49m)\n",
      "Input \u001b[1;32mIn [9]\u001b[0m, in \u001b[0;36mfibonacci\u001b[1;34m(x)\u001b[0m\n\u001b[0;32m      5\u001b[0m     \u001b[38;5;28;01mreturn\u001b[39;00m x\n\u001b[0;32m      6\u001b[0m \u001b[38;5;28;01melse\u001b[39;00m:\n\u001b[1;32m----> 8\u001b[0m     a \u001b[38;5;241m=\u001b[39m (\u001b[43mfibonacci\u001b[49m\u001b[43m(\u001b[49m\u001b[43mx\u001b[49m\u001b[38;5;241;43m-\u001b[39;49m\u001b[38;5;241;43m1\u001b[39;49m\u001b[43m)\u001b[49m \u001b[38;5;241m+\u001b[39m fibonacci(x\u001b[38;5;241m-\u001b[39m\u001b[38;5;241m2\u001b[39m))\n\u001b[0;32m     10\u001b[0m     \u001b[38;5;28;01mreturn\u001b[39;00m(list_fibo(a, fibonacci(x\u001b[38;5;241m-\u001b[39m\u001b[38;5;241m1\u001b[39m)))\n",
      "Input \u001b[1;32mIn [9]\u001b[0m, in \u001b[0;36mfibonacci\u001b[1;34m(x)\u001b[0m\n\u001b[0;32m      5\u001b[0m     \u001b[38;5;28;01mreturn\u001b[39;00m x\n\u001b[0;32m      6\u001b[0m \u001b[38;5;28;01melse\u001b[39;00m:\n\u001b[1;32m----> 8\u001b[0m     a \u001b[38;5;241m=\u001b[39m (\u001b[43mfibonacci\u001b[49m\u001b[43m(\u001b[49m\u001b[43mx\u001b[49m\u001b[38;5;241;43m-\u001b[39;49m\u001b[38;5;241;43m1\u001b[39;49m\u001b[43m)\u001b[49m \u001b[38;5;241m+\u001b[39m fibonacci(x\u001b[38;5;241m-\u001b[39m\u001b[38;5;241m2\u001b[39m))\n\u001b[0;32m     10\u001b[0m     \u001b[38;5;28;01mreturn\u001b[39;00m(list_fibo(a, fibonacci(x\u001b[38;5;241m-\u001b[39m\u001b[38;5;241m1\u001b[39m)))\n",
      "    \u001b[1;31m[... skipping similar frames: fibonacci at line 8 (15 times)]\u001b[0m\n",
      "Input \u001b[1;32mIn [9]\u001b[0m, in \u001b[0;36mfibonacci\u001b[1;34m(x)\u001b[0m\n\u001b[0;32m      5\u001b[0m     \u001b[38;5;28;01mreturn\u001b[39;00m x\n\u001b[0;32m      6\u001b[0m \u001b[38;5;28;01melse\u001b[39;00m:\n\u001b[1;32m----> 8\u001b[0m     a \u001b[38;5;241m=\u001b[39m (\u001b[43mfibonacci\u001b[49m\u001b[43m(\u001b[49m\u001b[43mx\u001b[49m\u001b[38;5;241;43m-\u001b[39;49m\u001b[38;5;241;43m1\u001b[39;49m\u001b[43m)\u001b[49m \u001b[38;5;241m+\u001b[39m fibonacci(x\u001b[38;5;241m-\u001b[39m\u001b[38;5;241m2\u001b[39m))\n\u001b[0;32m     10\u001b[0m     \u001b[38;5;28;01mreturn\u001b[39;00m(list_fibo(a, fibonacci(x\u001b[38;5;241m-\u001b[39m\u001b[38;5;241m1\u001b[39m)))\n",
      "Input \u001b[1;32mIn [9]\u001b[0m, in \u001b[0;36mfibonacci\u001b[1;34m(x)\u001b[0m\n\u001b[0;32m      6\u001b[0m \u001b[38;5;28;01melse\u001b[39;00m:\n\u001b[0;32m      8\u001b[0m     a \u001b[38;5;241m=\u001b[39m (fibonacci(x\u001b[38;5;241m-\u001b[39m\u001b[38;5;241m1\u001b[39m) \u001b[38;5;241m+\u001b[39m fibonacci(x\u001b[38;5;241m-\u001b[39m\u001b[38;5;241m2\u001b[39m))\n\u001b[1;32m---> 10\u001b[0m     \u001b[38;5;28;01mreturn\u001b[39;00m(\u001b[43mlist_fibo\u001b[49m(a, fibonacci(x\u001b[38;5;241m-\u001b[39m\u001b[38;5;241m1\u001b[39m)))\n",
      "\u001b[1;31mNameError\u001b[0m: name 'list_fibo' is not defined"
     ]
    }
   ],
   "source": [
    "import timeit\n",
    "def fibonacci(x):\n",
    "    \n",
    "    if x <=1:\n",
    "        return x\n",
    "    else:\n",
    "        \n",
    "        a = (fibonacci(x-1) + fibonacci(x-2))\n",
    "        \n",
    "        return(list_fibo(a, fibonacci(x-1)))\n",
    "\n",
    "x = 20\n",
    "print(fibonacci(x))\n",
    "\n",
    "#list_fibo = [fibonacci(i) for i in range(x)]\n",
    "#print(list_fibo)\n",
    "#print(timeit.timeit(stmt='[fibonacci(i) for i in range(20)]', setup=\"from __main__ import fibonacci\", number=1))\n",
    "#print(timeit.timeit('fiboncacci(20)',globals=globals()))"
   ]
  },
  {
   "cell_type": "code",
   "execution_count": null,
   "id": "14095c3a",
   "metadata": {},
   "outputs": [],
   "source": []
  }
 ],
 "metadata": {
  "kernelspec": {
   "display_name": "Python 3 (ipykernel)",
   "language": "python",
   "name": "python3"
  },
  "language_info": {
   "codemirror_mode": {
    "name": "ipython",
    "version": 3
   },
   "file_extension": ".py",
   "mimetype": "text/x-python",
   "name": "python",
   "nbconvert_exporter": "python",
   "pygments_lexer": "ipython3",
   "version": "3.9.12"
  }
 },
 "nbformat": 4,
 "nbformat_minor": 5
}
