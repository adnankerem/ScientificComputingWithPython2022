{
 "cells": [
  {
   "cell_type": "code",
   "execution_count": 24,
   "id": "d454e4af",
   "metadata": {},
   "outputs": [
    {
     "name": "stdout",
     "output_type": "stream",
     "text": [
      "8\n",
      "[1, 2, 3, 0, 1, 2, 3, 4, 5, 6, 7]\n",
      "[1, 2, 3]\n"
     ]
    }
   ],
   "source": [
    "def f(alist):\n",
    "    x = int(input())\n",
    "    changed_list=list(alist)\n",
    "    for i in range(x):\n",
    "        changed_list.append(i)\n",
    "    return changed_list\n",
    "\n",
    "alist = [1, 2, 3]\n",
    "ans = f(alist)\n",
    "print(ans)\n",
    "print(alist) # alist has been changed"
   ]
  },
  {
   "cell_type": "code",
   "execution_count": 38,
   "id": "4410d279",
   "metadata": {},
   "outputs": [
    {
     "name": "stdout",
     "output_type": "stream",
     "text": [
      "[1, 9, 25, 49, 81]\n"
     ]
    }
   ],
   "source": [
    "\n",
    "ans = [pow(x,2) for x in range(1,10,2)]\n",
    "print (ans)"
   ]
  },
  {
   "cell_type": "code",
   "execution_count": 6,
   "id": "f058ec41",
   "metadata": {},
   "outputs": [
    {
     "name": "stdout",
     "output_type": "stream",
     "text": [
      "5\n",
      "['a', 'aa', 'aaa', 'b', 'bb', 'bbb', 'bbbb', 'bbbbb', 'cc', 'ccc', 'cc', 'dddd']\n"
     ]
    }
   ],
   "source": [
    "l_of_words=[\"a\",\"aa\",\"aaa\",\"b\",\"bb\",\"bbb\",\"bbbb\",\"bbbbb\",\"cc\",\"cccccccc\",\"ccc\",\"ccccccccc\",\"cc\",\"dddd\"]\n",
    "i =int(input())\n",
    "def func(x):\n",
    "    return len(list(x))<=i\n",
    "\n",
    "print(list(filter(func, l_of_words)))\n",
    "   \n"
   ]
  },
  {
   "cell_type": "code",
   "execution_count": 65,
   "id": "8fa3d01b",
   "metadata": {},
   "outputs": [
    {
     "name": "stdout",
     "output_type": "stream",
     "text": [
      "[6, 4, 9, 3]\n"
     ]
    }
   ],
   "source": [
    "lang = {\"Python\" : 3, \"Java\" : '', \"Cplusplus\" : 'test', \"Php\" : 0.7}\n",
    "def function(x):\n",
    "    list_a = list(x.keys())\n",
    "    list_b=[]\n",
    "    for i in map(lambda y: len(y), list_a):\n",
    "        list_b.append(i)\n",
    "    return list_b\n",
    "print(function(lang))"
   ]
  },
  {
   "cell_type": "code",
   "execution_count": 82,
   "id": "e14085a4",
   "metadata": {},
   "outputs": [
    {
     "name": "stdout",
     "output_type": "stream",
     "text": [
      "(('Java', 32), ('Php', 45), ('Cplusplus', 81), ('Python', 97))\n"
     ]
    }
   ],
   "source": [
    "language_scores = [('Python', 97), ('Cplusplus', 81), ('Php', 45), ('Java', 32)]\n",
    "\n",
    "list_a=list(language_scores)\n",
    "def sort(x):\n",
    "    return x[1]\n",
    "list_a.sort(key=sort)\n",
    "language_scores=tuple(list_a)\n",
    "print(language_scores)\n",
    "\n"
   ]
  },
  {
   "cell_type": "code",
   "execution_count": 3,
   "id": "021c849a",
   "metadata": {},
   "outputs": [
    {
     "name": "stdout",
     "output_type": "stream",
     "text": [
      "2\n",
      "64\n"
     ]
    }
   ],
   "source": [
    "\n",
    "def square(x):\n",
    "    s = pow(x,2)\n",
    "    return s\n",
    "def cube(x):\n",
    "    c = pow(x,3)\n",
    "    return c\n",
    "def combined(x):\n",
    "    r = square(cube(x))\n",
    "    return r\n",
    "print(combined(int(input())))"
   ]
  },
  {
   "cell_type": "code",
   "execution_count": 58,
   "id": "09a40e29",
   "metadata": {},
   "outputs": [
    {
     "name": "stdout",
     "output_type": "stream",
     "text": [
      "Hello World!\n",
      "hey!\n"
     ]
    }
   ],
   "source": [
    "x=3\n",
    "def hello(func):\n",
    "    def hello2():\n",
    "        print(\"Hello World!\")\n",
    "        func()\n",
    "    return hello2\n",
    "@hello\n",
    "def hey():\n",
    "    print(\"hey!\")\n",
    "\n",
    "hey()"
   ]
  },
  {
   "cell_type": "code",
   "execution_count": 123,
   "id": "fab7eb98",
   "metadata": {},
   "outputs": [
    {
     "name": "stdout",
     "output_type": "stream",
     "text": [
      "[1, 1, 2, 3, 5, 8, 13, 21, 34, 55, 89, 144, 233, 377, 610, 987, 1597, 2584, 4181, 6765]\n"
     ]
    }
   ],
   "source": [
    "x = 20\n",
    "fibo = []\n",
    "f1,f2,fs = 0,1,0\n",
    "def fibo1():\n",
    "    global f1,f2,fs,fibo\n",
    "    f_list.append(f1)\n",
    "    fs = f1 + f2\n",
    "    f1 = f2\n",
    "    f2 = fs\n",
    "    return f1\n",
    "def fibo2(x):\n",
    "    global fibo\n",
    "    if x <1:\n",
    "        return x\n",
    "    else:\n",
    "        fibo.append(fibo1())\n",
    "        return fibo2(x-1)\n",
    "    \n",
    "fibo2(x)\n",
    "print(fibo)\n",
    "    "
   ]
  },
  {
   "cell_type": "code",
   "execution_count": 1,
   "id": "5072ee44",
   "metadata": {},
   "outputs": [
    {
     "name": "stdout",
     "output_type": "stream",
     "text": [
      "[0, 1, 1, 2, 3, 5, 8, 13, 21, 34, 55, 89, 144, 233, 377, 610, 987, 1597, 2584, 4181]\n"
     ]
    }
   ],
   "source": [
    "f1,f2,fs = 0,1,0\n",
    "f_list = []\n",
    "def fibonacci(x):\n",
    "    global f1,f2,fs,f_list\n",
    "    if x>0:\n",
    "        f_list.append(f1)\n",
    "        fs = f1 + f2\n",
    "        f1 = f2\n",
    "        f2 = fs\n",
    "        return fibonacci(x-1)\n",
    "x = 20\n",
    "fibonacci(x)\n",
    "print(f_list)\n"
   ]
  },
  {
   "cell_type": "code",
   "execution_count": 9,
   "id": "f763be54",
   "metadata": {},
   "outputs": [
    {
     "name": "stdout",
     "output_type": "stream",
     "text": [
      "[0, 1, 1, 2, 3, 5, 8, 13, 21, 34, 55, 89, 144, 233, 377, 610, 987, 1597, 2584, 4181]\n"
     ]
    }
   ],
   "source": [
    "def fibonacci2(x):\n",
    "    f_list=[a for i in range(20-x)]\n",
    "#    fibo =[a for i in f_list[range(20-x)]]\n",
    "    return f_list\n",
    "fibonacci2(22)\n",
    "print(f_list)"
   ]
  },
  {
   "cell_type": "code",
   "execution_count": null,
   "id": "44ce07c3",
   "metadata": {},
   "outputs": [],
   "source": []
  },
  {
   "cell_type": "code",
   "execution_count": null,
   "id": "5f6f514f",
   "metadata": {},
   "outputs": [],
   "source": []
  }
 ],
 "metadata": {
  "kernelspec": {
   "display_name": "Python 3 (ipykernel)",
   "language": "python",
   "name": "python3"
  },
  "language_info": {
   "codemirror_mode": {
    "name": "ipython",
    "version": 3
   },
   "file_extension": ".py",
   "mimetype": "text/x-python",
   "name": "python",
   "nbconvert_exporter": "python",
   "pygments_lexer": "ipython3",
   "version": "3.9.12"
  }
 },
 "nbformat": 4,
 "nbformat_minor": 5
}
