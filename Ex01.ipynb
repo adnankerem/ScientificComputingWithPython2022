{
 "cells": [
  {
   "cell_type": "code",
   "execution_count": 4,
   "id": "58c5b5c9",
   "metadata": {},
   "outputs": [
    {
     "name": "stdout",
     "output_type": "stream",
     "text": [
      "[0, 1, 1, 2, 3, 5, 8, 13, 21, 34, 55, 89, 144, 233, 377, 610, 987, 1597, 2584, 4181]\n",
      "5.019999997557534e-05\n"
     ]
    }
   ],
   "source": [
    "#fibonacci sequence 01ex 11. question\n",
    "import timeit\n",
    "def fibonacciloop():\n",
    "    counter = 0\n",
    "    fibonacci=[]\n",
    "    f1 , f2 = 0,1\n",
    "\n",
    "    for i in range(0,20):\n",
    "        fibonacci.append(f1)\n",
    "        counter = f1 + f2\n",
    "        f1 = f2\n",
    "        f2 = counter\n",
    "    print(fibonacci)\n",
    "\n",
    "print(timeit.timeit(stmt='fibonacciloop()', setup=\"from __main__ import fibonacciloop\", number=1))\n"
   ]
  },
  {
   "cell_type": "code",
   "execution_count": 7,
   "id": "7bb8f68c",
   "metadata": {},
   "outputs": [
    {
     "name": "stdout",
     "output_type": "stream",
     "text": [
      "[]\n"
     ]
    }
   ],
   "source": [
    "import timeit\n",
    "def loopfibonacci():\n",
    "    counter = 0\n",
    "    fibonacci=[]\n",
    "    f1 , f2, x= 0,1,20\n",
    "    for i in range(0,20):\n",
    "        fibonacci.append(f1)\n",
    "        counter = f1 + f2\n",
    "        f1 = f2\n",
    "        f2 = counter\n",
    "\n",
    "def fibonacci(x):\n",
    "    global f1,f2,fs,f_list\n",
    "    if x>0:\n",
    "        f_list.append(f1)\n",
    "        fs = f1 + f2\n",
    "        f1 = f2\n",
    "        f2 = fs\n",
    "        return fibonacci(x-1)\n",
    "x = 20\n",
    "loopfibonacci()\n",
    "print()"
   ]
  },
  {
   "cell_type": "code",
   "execution_count": 6,
   "id": "7b1716cb",
   "metadata": {},
   "outputs": [
    {
     "name": "stdout",
     "output_type": "stream",
     "text": [
      "[0, 1, 8, 27, 64, 125, 216, 343, 512, 729, 1000]\n"
     ]
    }
   ],
   "source": [
    "#7 cubes loop\n",
    "list_l=[]\n",
    "for i in range(11):\n",
    "    list_l.append(pow(i,3))\n",
    "print(list_l)"
   ]
  },
  {
   "cell_type": "code",
   "execution_count": 9,
   "id": "205df440",
   "metadata": {},
   "outputs": [
    {
     "name": "stdout",
     "output_type": "stream",
     "text": [
      "[0, 1, 8, 27, 64, 125, 216, 343, 512, 729, 1000]\n"
     ]
    }
   ],
   "source": [
    "#7 cubes list comprehension\n",
    "list_l = [pow(x,3) for x in range(11)]\n",
    "print(list_l)"
   ]
  },
  {
   "cell_type": "code",
   "execution_count": 14,
   "id": "ac822c94",
   "metadata": {},
   "outputs": [
    {
     "name": "stdout",
     "output_type": "stream",
     "text": [
      "[(0, 0), (0, 1), (0, 2), (0, 3), (1, 0), (1, 1), (1, 2), (1, 3), (2, 0), (2, 1), (2, 2), (2, 3)]\n"
     ]
    }
   ],
   "source": [
    "#8list comprehension\n",
    "a = [(i,j) for i in range(3) for j in range(4)]\n",
    "print(a)"
   ]
  },
  {
   "cell_type": "code",
   "execution_count": 2,
   "id": "25822132",
   "metadata": {},
   "outputs": [
    {
     "name": "stdout",
     "output_type": "stream",
     "text": [
      "((3, 4, 5), (4, 3, 5), (5, 12, 13), (6, 8, 10), (7, 24, 25), (8, 6, 10), (8, 15, 17), (9, 12, 15), (9, 40, 41), (10, 24, 26), (11, 60, 61), (12, 5, 13), (12, 9, 15), (12, 16, 20), (12, 35, 37), (13, 84, 85), (14, 48, 50), (15, 8, 17), (15, 20, 25), (15, 36, 39), (16, 12, 20), (16, 30, 34), (16, 63, 65), (18, 24, 30), (18, 80, 82), (20, 15, 25), (20, 21, 29), (20, 48, 52), (21, 20, 29), (21, 28, 35), (21, 72, 75), (24, 7, 25), (24, 10, 26), (24, 18, 30), (24, 32, 40), (24, 45, 51), (24, 70, 74), (25, 60, 65), (27, 36, 45), (28, 21, 35), (28, 45, 53), (30, 16, 34), (30, 40, 50), (30, 72, 78), (32, 24, 40), (32, 60, 68), (33, 44, 55), (33, 56, 65), (35, 12, 37), (35, 84, 91), (36, 15, 39), (36, 27, 45), (36, 48, 60), (36, 77, 85), (39, 52, 65), (39, 80, 89), (40, 9, 41), (40, 30, 50), (40, 42, 58), (40, 75, 85), (42, 40, 58), (42, 56, 70), (44, 33, 55), (45, 24, 51), (45, 28, 53), (45, 60, 75), (48, 14, 50), (48, 20, 52), (48, 36, 60), (48, 55, 73), (48, 64, 80), (51, 68, 85), (52, 39, 65), (54, 72, 90), (55, 48, 73), (56, 33, 65), (56, 42, 70), (57, 76, 95), (60, 11, 61), (60, 25, 65), (60, 32, 68), (60, 45, 75), (60, 63, 87), (63, 16, 65), (63, 60, 87), (64, 48, 80), (65, 72, 97), (68, 51, 85), (70, 24, 74), (72, 21, 75), (72, 30, 78), (72, 54, 90), (72, 65, 97), (75, 40, 85), (76, 57, 95), (77, 36, 85), (80, 18, 82), (80, 39, 89), (84, 13, 85), (84, 35, 91))\n"
     ]
    }
   ],
   "source": [
    "#9 Nested List Comprehension\n",
    "import math\n",
    "\n",
    "#list_a = [i*i+j*j for i in range(10) for j in range(10)]\n",
    "\n",
    "list_d = tuple([(i,j,int(math.sqrt(i*i+j*j))) for i in range(1,100) for j in range (1,100) if math.sqrt(i*i+j*j)<100 and math.sqrt(i*i+j*j)%1==0])\n",
    "#list_d = tuple(list_d)\n",
    "print(list_d)"
   ]
  },
  {
   "cell_type": "code",
   "execution_count": 3,
   "id": "ce7e4d20",
   "metadata": {},
   "outputs": [
    {
     "name": "stdout",
     "output_type": "stream",
     "text": [
      "how much dimension\n",
      "5\n",
      "write dimension  1\n",
      "9\n",
      "write dimension  2\n",
      "7\n",
      "write dimension  3\n",
      "5\n",
      "write dimension  4\n",
      "66\n",
      "write dimension  5\n",
      "87\n",
      "109.90905331227269\n"
     ]
    }
   ],
   "source": [
    "#10 Normalization of a N-dimensional vector\n",
    "import math\n",
    "print(\"how much dimension\")\n",
    "x,counter = int(input()),1\n",
    "list_d = []\n",
    "for i in range(x):\n",
    "    print(\"write dimension \", counter)\n",
    "    list_d.append(int(input()))\n",
    "    counter = counter + 1\n",
    "counter = 0\n",
    "for j in list_d:\n",
    "    counter = counter + pow(j,2)\n",
    "print(math.sqrt(counter))\n",
    " \n"
   ]
  },
  {
   "cell_type": "code",
   "execution_count": 9,
   "id": "58eaf0ec",
   "metadata": {},
   "outputs": [
    {
     "name": "stdout",
     "output_type": "stream",
     "text": [
      "[0, 1, 1, 2, 3, 5, 8, 13, 21, 34, 55, 89, 144, 233, 377, 610, 987, 1597, 2584, 4181]\n"
     ]
    }
   ],
   "source": [
    "#fibonacci sequence 01ex 11. question\n",
    "counter = 0\n",
    "fibonacci=[]\n",
    "f1 , f2 = 0,1\n",
    "\n",
    "for i in range(0,20):\n",
    "    fibonacci.append(f1)\n",
    "    counter = f1 + f2\n",
    "    f1 = f2\n",
    "    f2 = counter\n",
    "print(fibonacci)"
   ]
  },
  {
   "cell_type": "code",
   "execution_count": null,
   "id": "bc425cd7",
   "metadata": {},
   "outputs": [],
   "source": []
  }
 ],
 "metadata": {
  "kernelspec": {
   "display_name": "Python 3 (ipykernel)",
   "language": "python",
   "name": "python3"
  },
  "language_info": {
   "codemirror_mode": {
    "name": "ipython",
    "version": 3
   },
   "file_extension": ".py",
   "mimetype": "text/x-python",
   "name": "python",
   "nbconvert_exporter": "python",
   "pygments_lexer": "ipython3",
   "version": "3.9.12"
  }
 },
 "nbformat": 4,
 "nbformat_minor": 5
}
